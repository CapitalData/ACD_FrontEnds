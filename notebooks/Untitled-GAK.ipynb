{
 "cells": [
  {
   "cell_type": "code",
   "execution_count": 1,
   "id": "directed-notice",
   "metadata": {},
   "outputs": [
    {
     "output_type": "error",
     "ename": "ModuleNotFoundError",
     "evalue": "No module named 'dash'",
     "traceback": [
      "\u001b[0;31m---------------------------------------------------------------------------\u001b[0m",
      "\u001b[0;31mModuleNotFoundError\u001b[0m                       Traceback (most recent call last)",
      "\u001b[0;32m<ipython-input-1-896b797f7c4e>\u001b[0m in \u001b[0;36m<module>\u001b[0;34m\u001b[0m\n\u001b[0;32m----> 1\u001b[0;31m \u001b[0;32mimport\u001b[0m \u001b[0mdash\u001b[0m\u001b[0;34m\u001b[0m\u001b[0m\n\u001b[0m\u001b[1;32m      2\u001b[0m \u001b[0;32mimport\u001b[0m \u001b[0mdash_core_components\u001b[0m \u001b[0;32mas\u001b[0m \u001b[0mdcc\u001b[0m\u001b[0;34m\u001b[0m\u001b[0m\n\u001b[1;32m      3\u001b[0m \u001b[0;32mimport\u001b[0m \u001b[0mdash_html_components\u001b[0m \u001b[0;32mas\u001b[0m \u001b[0mhtml\u001b[0m\u001b[0;34m\u001b[0m\u001b[0m\n\u001b[1;32m      4\u001b[0m \u001b[0;32mimport\u001b[0m \u001b[0mdash_bootstrap_components\u001b[0m \u001b[0;32mas\u001b[0m \u001b[0mdbc\u001b[0m\u001b[0;34m\u001b[0m\u001b[0m\n\u001b[1;32m      5\u001b[0m \u001b[0;32mfrom\u001b[0m \u001b[0mdash\u001b[0m\u001b[0;34m.\u001b[0m\u001b[0mdependencies\u001b[0m \u001b[0;32mimport\u001b[0m \u001b[0mInput\u001b[0m\u001b[0;34m,\u001b[0m \u001b[0mOutput\u001b[0m\u001b[0;34m\u001b[0m\u001b[0m\n",
      "\u001b[0;31mModuleNotFoundError\u001b[0m: No module named 'dash'"
     ]
    }
   ],
   "source": [
    "import dash\n",
    "import dash_core_components as dcc\n",
    "import dash_html_components as html\n",
    "import dash_bootstrap_components as dbc\n",
    "from dash.dependencies import Input, Output\n",
    "import plotly.express as px\n",
    "import pandas as pd\n",
    "import numpy as np\n",
    "\n",
    "app = dash.Dash(external_stylesheets=[dbc.themes.LITERA])\n",
    "\n",
    "curriculum = pd.read_csv(\"CurriculumEntity.csv\")\n",
    "df = pd.DataFrame(curriculum, columns = ['name', 'url', 'method', 'style', 'perspective', 'colorformat', 'scriptformat', 'topic', 'scopesequence'])\n",
    "\n",
    "def update_figure():\n",
    "    selected_method = 'mastery'\n",
    "    selected_perspective = 'secular'\n",
    "    filtered_df = df[(df.method == selected_method) & (df.perspective == selected_perspective)]\n",
    "    print(filtered_df.head())\n",
    "    \n",
    "    return filtered_df\n"
   ]
  },
  {
   "source": [
    "# Get virus data\n"
   ],
   "cell_type": "markdown",
   "metadata": {}
  },
  {
   "cell_type": "code",
   "execution_count": 41,
   "id": "federal-onion",
   "metadata": {},
   "outputs": [],
   "source": [
    "import pandas as pd\n",
    "from io import StringIO\n",
    "import requests\n",
    "\n",
    "#shutil.rmtree.avoids_symlink_attacks=True\n",
    "from datetime import datetime, date, time\n",
    "import csv\n",
    "\n",
    "## We can use requests and get a byte stream of the CSVget virus data\n",
    "## dropping lines with extra data\n",
    "\n",
    "#############################################\n",
    "## get the locally stored creendtials\n",
    "cred_Dict = {}\n",
    "with open('../keys/github_config.csv', mode='r') as infile:\n",
    "    reader = csv.reader(infile)\n",
    "    for rows in reader:\n",
    "        #skipping comments\n",
    "        if rows[0][0]!='#': \n",
    "            cred_Dict[rows[0]]=rows[1]\n",
    "\n",
    "token =  cred_Dict['token']\n",
    "#############################################\n",
    "\n",
    "url_rv1a = f'https://raw.githubusercontent.com/CapitalData/virusgraph/master/Dataset/Coronaviruses/GenomeIdentityClean.csv?token={token}'\n",
    "\n",
    "rv = requests.get(url_rv1a).text\n",
    "GenomeID = pd.read_csv(StringIO(rv), error_bad_lines=False)\n",
    "\n",
    "url_rv2 = 'https://github.com/CapitalData/biograkn-covid/raw/master/Dataset/Coronaviruses/Host proteins (potential drug targets).csv'\n",
    "\n",
    "rv_2 = requests.get(url_rv2).text\n",
    "VirusProtein = pd.read_csv(StringIO(rv_2), error_bad_lines=False)\n",
    "\n",
    "# alternative syntax to get the bytes stream\n",
    "#url = 'https://raw.githubusercontent.com/CapitalData/biograkn-covid/master/Dataset/Coronaviruses/Genome%20identity.csv')"
   ]
  },
  {
   "cell_type": "code",
   "execution_count": 43,
   "metadata": {},
   "outputs": [
    {
     "output_type": "execute_result",
     "data": {
      "text/plain": [
       "  GenBank ID             Coronavirus   Identity %    Host   \\\n",
       "0    MN908947               2019-nCoV       100.00  Human    \n",
       "1    MN938384  2019-nCoV[HKU-SZ-002a]        99.99  Human    \n",
       "2    MN975262  2019-nCoV[HKU-SZ-005b]        99.98  Human    \n",
       "3    AY390556          SARS-CoV[GZ02]        79.70  Human    \n",
       "4    AY485277       SARS-CoV[Sino1-11        79.70  Human    \n",
       "\n",
       "  Location discovered   \n",
       "0               China   \n",
       "1               China   \n",
       "2               China   \n",
       "3                China  \n",
       "4               China   "
      ],
      "text/html": "<div>\n<style scoped>\n    .dataframe tbody tr th:only-of-type {\n        vertical-align: middle;\n    }\n\n    .dataframe tbody tr th {\n        vertical-align: top;\n    }\n\n    .dataframe thead th {\n        text-align: right;\n    }\n</style>\n<table border=\"1\" class=\"dataframe\">\n  <thead>\n    <tr style=\"text-align: right;\">\n      <th></th>\n      <th>GenBank ID</th>\n      <th>Coronavirus</th>\n      <th>Identity %</th>\n      <th>Host</th>\n      <th>Location discovered</th>\n    </tr>\n  </thead>\n  <tbody>\n    <tr>\n      <th>0</th>\n      <td>MN908947</td>\n      <td>2019-nCoV</td>\n      <td>100.00</td>\n      <td>Human</td>\n      <td>China</td>\n    </tr>\n    <tr>\n      <th>1</th>\n      <td>MN938384</td>\n      <td>2019-nCoV[HKU-SZ-002a]</td>\n      <td>99.99</td>\n      <td>Human</td>\n      <td>China</td>\n    </tr>\n    <tr>\n      <th>2</th>\n      <td>MN975262</td>\n      <td>2019-nCoV[HKU-SZ-005b]</td>\n      <td>99.98</td>\n      <td>Human</td>\n      <td>China</td>\n    </tr>\n    <tr>\n      <th>3</th>\n      <td>AY390556</td>\n      <td>SARS-CoV[GZ02]</td>\n      <td>79.70</td>\n      <td>Human</td>\n      <td>China</td>\n    </tr>\n    <tr>\n      <th>4</th>\n      <td>AY485277</td>\n      <td>SARS-CoV[Sino1-11</td>\n      <td>79.70</td>\n      <td>Human</td>\n      <td>China</td>\n    </tr>\n  </tbody>\n</table>\n</div>"
     },
     "metadata": {},
     "execution_count": 43
    }
   ],
   "source": [
    "GenomeID.head()"
   ]
  },
  {
   "cell_type": "code",
   "execution_count": 44,
   "metadata": {},
   "outputs": [
    {
     "output_type": "execute_result",
     "data": {
      "text/plain": [
       "  Coronavirus  Alternative virus name Host Protein  UniProt ID  \\\n",
       "0         IBV                    IBV          NONO      Q15233   \n",
       "1         IBV                    IBV          GSK3A     P49840   \n",
       "2         IBV                    IBV          GSK3B     P49841   \n",
       "3         IBV                    IBV         PABPC1     P11940   \n",
       "4         IBV                    IBV         PABPC4     Q13310   \n",
       "\n",
       "   Host Gene Entrez ID  PubMed ID/STRING  \n",
       "0                  4841         23637410  \n",
       "1                  2931         23637410  \n",
       "2                  2932         23637410  \n",
       "3                 26986         23637410  \n",
       "4                  8761         23637410  "
      ],
      "text/html": "<div>\n<style scoped>\n    .dataframe tbody tr th:only-of-type {\n        vertical-align: middle;\n    }\n\n    .dataframe tbody tr th {\n        vertical-align: top;\n    }\n\n    .dataframe thead th {\n        text-align: right;\n    }\n</style>\n<table border=\"1\" class=\"dataframe\">\n  <thead>\n    <tr style=\"text-align: right;\">\n      <th></th>\n      <th>Coronavirus</th>\n      <th>Alternative virus name</th>\n      <th>Host Protein</th>\n      <th>UniProt ID</th>\n      <th>Host Gene Entrez ID</th>\n      <th>PubMed ID/STRING</th>\n    </tr>\n  </thead>\n  <tbody>\n    <tr>\n      <th>0</th>\n      <td>IBV</td>\n      <td>IBV</td>\n      <td>NONO</td>\n      <td>Q15233</td>\n      <td>4841</td>\n      <td>23637410</td>\n    </tr>\n    <tr>\n      <th>1</th>\n      <td>IBV</td>\n      <td>IBV</td>\n      <td>GSK3A</td>\n      <td>P49840</td>\n      <td>2931</td>\n      <td>23637410</td>\n    </tr>\n    <tr>\n      <th>2</th>\n      <td>IBV</td>\n      <td>IBV</td>\n      <td>GSK3B</td>\n      <td>P49841</td>\n      <td>2932</td>\n      <td>23637410</td>\n    </tr>\n    <tr>\n      <th>3</th>\n      <td>IBV</td>\n      <td>IBV</td>\n      <td>PABPC1</td>\n      <td>P11940</td>\n      <td>26986</td>\n      <td>23637410</td>\n    </tr>\n    <tr>\n      <th>4</th>\n      <td>IBV</td>\n      <td>IBV</td>\n      <td>PABPC4</td>\n      <td>Q13310</td>\n      <td>8761</td>\n      <td>23637410</td>\n    </tr>\n  </tbody>\n</table>\n</div>"
     },
     "metadata": {},
     "execution_count": 44
    }
   ],
   "source": [
    "#GenomeID.head()\n",
    "VirusProtein.head()"
   ]
  },
  {
   "cell_type": "code",
   "execution_count": 45,
   "metadata": {},
   "outputs": [
    {
     "output_type": "stream",
     "name": "stdout",
     "text": [
      "Index(['GenBank ID ', 'Coronavirus ', 'Identity % ', 'Host ',\n       'Location discovered '],\n      dtype='object')\nIndex(['Coronavirus ', 'Alternative virus name', 'Host Protein ', 'UniProt ID',\n       'Host Gene Entrez ID ', 'PubMed ID/STRING'],\n      dtype='object')\n"
     ]
    }
   ],
   "source": [
    "print(GenomeID.columns)\n",
    "print(VirusProtein.columns)"
   ]
  },
  {
   "cell_type": "code",
   "execution_count": null,
   "metadata": {},
   "outputs": [],
   "source": []
  }
 ],
 "metadata": {
  "kernelspec": {
   "display_name": "Python 3",
   "language": "python",
   "name": "python3"
  },
  "language_info": {
   "codemirror_mode": {
    "name": "ipython",
    "version": 3
   },
   "file_extension": ".py",
   "mimetype": "text/x-python",
   "name": "python",
   "nbconvert_exporter": "python",
   "pygments_lexer": "ipython3",
   "version": "3.7.0"
  }
 },
 "nbformat": 4,
 "nbformat_minor": 5
}