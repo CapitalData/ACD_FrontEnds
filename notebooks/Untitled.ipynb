{
 "cells": [
  {
   "cell_type": "code",
   "execution_count": 6,
   "id": "directed-notice",
   "metadata": {},
   "outputs": [
    {
     "output_type": "error",
     "ename": "ModuleNotFoundError",
     "evalue": "No module named 'dash'",
     "traceback": [
      "\u001b[0;31m---------------------------------------------------------------------------\u001b[0m",
      "\u001b[0;31mModuleNotFoundError\u001b[0m                       Traceback (most recent call last)",
      "\u001b[0;32m<ipython-input-6-896b797f7c4e>\u001b[0m in \u001b[0;36m<module>\u001b[0;34m()\u001b[0m\n\u001b[0;32m----> 1\u001b[0;31m \u001b[0;32mimport\u001b[0m \u001b[0mdash\u001b[0m\u001b[0;34m\u001b[0m\u001b[0;34m\u001b[0m\u001b[0m\n\u001b[0m\u001b[1;32m      2\u001b[0m \u001b[0;32mimport\u001b[0m \u001b[0mdash_core_components\u001b[0m \u001b[0;32mas\u001b[0m \u001b[0mdcc\u001b[0m\u001b[0;34m\u001b[0m\u001b[0;34m\u001b[0m\u001b[0m\n\u001b[1;32m      3\u001b[0m \u001b[0;32mimport\u001b[0m \u001b[0mdash_html_components\u001b[0m \u001b[0;32mas\u001b[0m \u001b[0mhtml\u001b[0m\u001b[0;34m\u001b[0m\u001b[0;34m\u001b[0m\u001b[0m\n\u001b[1;32m      4\u001b[0m \u001b[0;32mimport\u001b[0m \u001b[0mdash_bootstrap_components\u001b[0m \u001b[0;32mas\u001b[0m \u001b[0mdbc\u001b[0m\u001b[0;34m\u001b[0m\u001b[0;34m\u001b[0m\u001b[0m\n\u001b[1;32m      5\u001b[0m \u001b[0;32mfrom\u001b[0m \u001b[0mdash\u001b[0m\u001b[0;34m.\u001b[0m\u001b[0mdependencies\u001b[0m \u001b[0;32mimport\u001b[0m \u001b[0mInput\u001b[0m\u001b[0;34m,\u001b[0m \u001b[0mOutput\u001b[0m\u001b[0;34m\u001b[0m\u001b[0;34m\u001b[0m\u001b[0m\n",
      "\u001b[0;31mModuleNotFoundError\u001b[0m: No module named 'dash'"
     ]
    }
   ],
   "source": [
    "import dash\n",
    "import dash_core_components as dcc\n",
    "import dash_html_components as html\n",
    "import dash_bootstrap_components as dbc\n",
    "from dash.dependencies import Input, Output\n",
    "import plotly.express as px\n",
    "import pandas as pd\n",
    "import numpy as np\n",
    "\n",
    "from io import StringIO\n",
    "\n",
    "app = dash.Dash(external_stylesheets=[dbc.themes.LITERA])\n",
    "\n",
    "curriculum = pd.read_csv(\"CurriculumEntity.csv\")\n",
    "df = pd.DataFrame(curriculum, columns = ['name', 'url', 'method', 'style', 'perspective', 'colorformat', 'scriptformat', 'topic', 'scopesequence'])\n",
    "\n",
    "def update_figure():\n",
    "    selected_method = 'mastery'\n",
    "    selected_perspective = 'secular'\n",
    "    filtered_df = df[(df.method == selected_method) & (df.perspective == selected_perspective)]\n",
    "    print(filtered_df.head())\n",
    "    \n",
    "    return filtered_df\n"
   ]
  },
  {
   "cell_type": "code",
   "execution_count": null,
   "id": "typical-yesterday",
   "metadata": {},
   "outputs": [],
   "source": []
  },
  {
   "cell_type": "code",
   "execution_count": 42,
   "id": "equal-pacific",
   "metadata": {},
   "outputs": [
    {
     "name": "stdout",
     "output_type": "stream",
     "text": [
      "                 name                                                url  \\\n",
      "0  Dimensions Math PK  https://www.singaporemath.com/programs/dimensi...   \n",
      "1   Dimensions Math K  https://www.singaporemath.com/programs/dimensi...   \n",
      "2   Dimensions Math 1  https://www.singaporemath.com/programs/dimensi...   \n",
      "3   Dimensions Math 2  https://www.singaporemath.com/programs/dimensi...   \n",
      "4   Dimensions Math 3  https://www.singaporemath.com/programs/dimensi...   \n",
      "\n",
      "    method       style perspective colorformat scriptformat topic  \\\n",
      "0  mastery  conceptual     secular       color     scripted  math   \n",
      "1  mastery  conceptual     secular       color     scripted  math   \n",
      "2  mastery  conceptual     secular       color     scripted  math   \n",
      "3  mastery  conceptual     secular       color     scripted  math   \n",
      "4  mastery  conceptual     secular       color     scripted  math   \n",
      "\n",
      "   scopesequence  \n",
      "0            NaN  \n",
      "1            NaN  \n",
      "2            NaN  \n",
      "3            NaN  \n",
      "4            NaN  \n"
     ]
    },
    {
     "data": {
      "text/html": [
       "<div>\n",
       "<style scoped>\n",
       "    .dataframe tbody tr th:only-of-type {\n",
       "        vertical-align: middle;\n",
       "    }\n",
       "\n",
       "    .dataframe tbody tr th {\n",
       "        vertical-align: top;\n",
       "    }\n",
       "\n",
       "    .dataframe thead th {\n",
       "        text-align: right;\n",
       "    }\n",
       "</style>\n",
       "<table border=\"1\" class=\"dataframe\">\n",
       "  <thead>\n",
       "    <tr style=\"text-align: right;\">\n",
       "      <th></th>\n",
       "      <th>name</th>\n",
       "      <th>url</th>\n",
       "      <th>method</th>\n",
       "      <th>style</th>\n",
       "      <th>perspective</th>\n",
       "      <th>colorformat</th>\n",
       "      <th>scriptformat</th>\n",
       "      <th>topic</th>\n",
       "      <th>scopesequence</th>\n",
       "    </tr>\n",
       "  </thead>\n",
       "  <tbody>\n",
       "    <tr>\n",
       "      <th>0</th>\n",
       "      <td>Dimensions Math PK</td>\n",
       "      <td>https://www.singaporemath.com/programs/dimensi...</td>\n",
       "      <td>mastery</td>\n",
       "      <td>conceptual</td>\n",
       "      <td>secular</td>\n",
       "      <td>color</td>\n",
       "      <td>scripted</td>\n",
       "      <td>math</td>\n",
       "      <td>NaN</td>\n",
       "    </tr>\n",
       "    <tr>\n",
       "      <th>1</th>\n",
       "      <td>Dimensions Math K</td>\n",
       "      <td>https://www.singaporemath.com/programs/dimensi...</td>\n",
       "      <td>mastery</td>\n",
       "      <td>conceptual</td>\n",
       "      <td>secular</td>\n",
       "      <td>color</td>\n",
       "      <td>scripted</td>\n",
       "      <td>math</td>\n",
       "      <td>NaN</td>\n",
       "    </tr>\n",
       "    <tr>\n",
       "      <th>2</th>\n",
       "      <td>Dimensions Math 1</td>\n",
       "      <td>https://www.singaporemath.com/programs/dimensi...</td>\n",
       "      <td>mastery</td>\n",
       "      <td>conceptual</td>\n",
       "      <td>secular</td>\n",
       "      <td>color</td>\n",
       "      <td>scripted</td>\n",
       "      <td>math</td>\n",
       "      <td>NaN</td>\n",
       "    </tr>\n",
       "    <tr>\n",
       "      <th>3</th>\n",
       "      <td>Dimensions Math 2</td>\n",
       "      <td>https://www.singaporemath.com/programs/dimensi...</td>\n",
       "      <td>mastery</td>\n",
       "      <td>conceptual</td>\n",
       "      <td>secular</td>\n",
       "      <td>color</td>\n",
       "      <td>scripted</td>\n",
       "      <td>math</td>\n",
       "      <td>NaN</td>\n",
       "    </tr>\n",
       "    <tr>\n",
       "      <th>4</th>\n",
       "      <td>Dimensions Math 3</td>\n",
       "      <td>https://www.singaporemath.com/programs/dimensi...</td>\n",
       "      <td>mastery</td>\n",
       "      <td>conceptual</td>\n",
       "      <td>secular</td>\n",
       "      <td>color</td>\n",
       "      <td>scripted</td>\n",
       "      <td>math</td>\n",
       "      <td>NaN</td>\n",
       "    </tr>\n",
       "    <tr>\n",
       "      <th>...</th>\n",
       "      <td>...</td>\n",
       "      <td>...</td>\n",
       "      <td>...</td>\n",
       "      <td>...</td>\n",
       "      <td>...</td>\n",
       "      <td>...</td>\n",
       "      <td>...</td>\n",
       "      <td>...</td>\n",
       "      <td>...</td>\n",
       "    </tr>\n",
       "    <tr>\n",
       "      <th>199</th>\n",
       "      <td>AoPS Introduction to Number Theory</td>\n",
       "      <td>https://artofproblemsolving.com/store</td>\n",
       "      <td>mastery</td>\n",
       "      <td>conceptual</td>\n",
       "      <td>secular</td>\n",
       "      <td>black/white</td>\n",
       "      <td>nonscripted</td>\n",
       "      <td>math</td>\n",
       "      <td>NaN</td>\n",
       "    </tr>\n",
       "    <tr>\n",
       "      <th>200</th>\n",
       "      <td>AoPS Intermediate Algebra</td>\n",
       "      <td>https://artofproblemsolving.com/store</td>\n",
       "      <td>mastery</td>\n",
       "      <td>conceptual</td>\n",
       "      <td>secular</td>\n",
       "      <td>black/white</td>\n",
       "      <td>nonscripted</td>\n",
       "      <td>math</td>\n",
       "      <td>NaN</td>\n",
       "    </tr>\n",
       "    <tr>\n",
       "      <th>201</th>\n",
       "      <td>AoPS Intermediate Counting &amp; Probability</td>\n",
       "      <td>https://artofproblemsolving.com/store</td>\n",
       "      <td>mastery</td>\n",
       "      <td>conceptual</td>\n",
       "      <td>secular</td>\n",
       "      <td>black/white</td>\n",
       "      <td>nonscripted</td>\n",
       "      <td>math</td>\n",
       "      <td>NaN</td>\n",
       "    </tr>\n",
       "    <tr>\n",
       "      <th>202</th>\n",
       "      <td>AoPS Precalculus</td>\n",
       "      <td>https://artofproblemsolving.com/store</td>\n",
       "      <td>mastery</td>\n",
       "      <td>conceptual</td>\n",
       "      <td>secular</td>\n",
       "      <td>black/white</td>\n",
       "      <td>nonscripted</td>\n",
       "      <td>math</td>\n",
       "      <td>NaN</td>\n",
       "    </tr>\n",
       "    <tr>\n",
       "      <th>203</th>\n",
       "      <td>AoPS Calculus</td>\n",
       "      <td>https://artofproblemsolving.com/store</td>\n",
       "      <td>mastery</td>\n",
       "      <td>conceptual</td>\n",
       "      <td>secular</td>\n",
       "      <td>black/white</td>\n",
       "      <td>nonscripted</td>\n",
       "      <td>math</td>\n",
       "      <td>NaN</td>\n",
       "    </tr>\n",
       "  </tbody>\n",
       "</table>\n",
       "<p>78 rows × 9 columns</p>\n",
       "</div>"
      ],
      "text/plain": [
       "                                         name  \\\n",
       "0                          Dimensions Math PK   \n",
       "1                           Dimensions Math K   \n",
       "2                           Dimensions Math 1   \n",
       "3                           Dimensions Math 2   \n",
       "4                           Dimensions Math 3   \n",
       "..                                        ...   \n",
       "199        AoPS Introduction to Number Theory   \n",
       "200                 AoPS Intermediate Algebra   \n",
       "201  AoPS Intermediate Counting & Probability   \n",
       "202                          AoPS Precalculus   \n",
       "203                             AoPS Calculus   \n",
       "\n",
       "                                                   url   method       style  \\\n",
       "0    https://www.singaporemath.com/programs/dimensi...  mastery  conceptual   \n",
       "1    https://www.singaporemath.com/programs/dimensi...  mastery  conceptual   \n",
       "2    https://www.singaporemath.com/programs/dimensi...  mastery  conceptual   \n",
       "3    https://www.singaporemath.com/programs/dimensi...  mastery  conceptual   \n",
       "4    https://www.singaporemath.com/programs/dimensi...  mastery  conceptual   \n",
       "..                                                 ...      ...         ...   \n",
       "199              https://artofproblemsolving.com/store  mastery  conceptual   \n",
       "200              https://artofproblemsolving.com/store  mastery  conceptual   \n",
       "201              https://artofproblemsolving.com/store  mastery  conceptual   \n",
       "202              https://artofproblemsolving.com/store  mastery  conceptual   \n",
       "203              https://artofproblemsolving.com/store  mastery  conceptual   \n",
       "\n",
       "    perspective  colorformat scriptformat topic  scopesequence  \n",
       "0       secular        color     scripted  math            NaN  \n",
       "1       secular        color     scripted  math            NaN  \n",
       "2       secular        color     scripted  math            NaN  \n",
       "3       secular        color     scripted  math            NaN  \n",
       "4       secular        color     scripted  math            NaN  \n",
       "..          ...          ...          ...   ...            ...  \n",
       "199     secular  black/white  nonscripted  math            NaN  \n",
       "200     secular  black/white  nonscripted  math            NaN  \n",
       "201     secular  black/white  nonscripted  math            NaN  \n",
       "202     secular  black/white  nonscripted  math            NaN  \n",
       "203     secular  black/white  nonscripted  math            NaN  \n",
       "\n",
       "[78 rows x 9 columns]"
      ]
     },
     "execution_count": 42,
     "metadata": {},
     "output_type": "execute_result"
    }
   ],
   "source": [
    "update_figure()"
   ]
  },
  {
   "cell_type": "code",
   "execution_count": 14,
   "id": "federal-onion",
   "metadata": {},
   "outputs": [
    {
     "output_type": "execute_result",
     "data": {
      "text/plain": [
       "Index(['name', 'url', 'method', 'style', 'perspective', 'colorformat',\n",
       "       'scriptformat', 'topic'],\n",
       "      dtype='object')"
      ]
     },
     "metadata": {},
     "execution_count": 14
    }
   ],
   "source": [
    "import pandas as pd\n",
    "from io import StringIO\n",
    "\n",
    "curriculum = pd.read_csv(\"CurriculumEntity.csv\")\n",
    "curriculum.head()\n",
    "curriculum.columns\n"
   ]
  },
  {
   "source": [
    "# Getting the data, Lets use requests..."
   ],
   "cell_type": "markdown",
   "metadata": {}
  },
  {
   "cell_type": "code",
   "execution_count": 52,
   "metadata": {
    "tags": []
   },
   "outputs": [
    {
     "output_type": "stream",
     "name": "stdout",
     "text": [
      "<urllib3.response.HTTPResponse object at 0x7ffc923d4390>\n"
     ]
    }
   ],
   "source": [
    "# ref https://stackoverflow.com/questions/62164400/how-to-access-private-github-repo-file-csv-in-python-using-pandas-or-requests\n",
    " \n",
    "# for a public file\n",
    "#url = 'https://raw.githubusercontent.com/username/repo/master/file.csv' \n",
    "#df = pd.read_csv(url, error_bad_lines=False)\n",
    "url = 'https://raw.githubusercontent.com/username/repo/master/file.csv'\n",
    "df = pd.read_csv(url, error_bad_lines=False)\n",
    "\n",
    " # for a private file"
   ]
  },
  {
   "cell_type": "code",
   "execution_count": 3,
   "metadata": {},
   "outputs": [],
   "source": [
    "## get virus data\n",
    "import pandas as pd\n",
    "from io import StringIO\n",
    "import requests\n"
   ]
  },
  {
   "cell_type": "code",
   "execution_count": 4,
   "metadata": {},
   "outputs": [
    {
     "output_type": "stream",
     "name": "stderr",
     "text": [
      "b'Skipping line 59: expected 1 fields, saw 3\\nSkipping line 66: expected 1 fields, saw 2\\nSkipping line 67: expected 1 fields, saw 3\\nSkipping line 87: expected 1 fields, saw 3\\nSkipping line 135: expected 1 fields, saw 3\\nSkipping line 180: expected 1 fields, saw 3\\nSkipping line 199: expected 1 fields, saw 6\\nSkipping line 225: expected 1 fields, saw 4\\nSkipping line 229: expected 1 fields, saw 2\\nSkipping line 242: expected 1 fields, saw 2\\nSkipping line 243: expected 1 fields, saw 2\\nSkipping line 249: expected 1 fields, saw 2\\nSkipping line 252: expected 1 fields, saw 2\\nSkipping line 260: expected 1 fields, saw 4\\nSkipping line 266: expected 1 fields, saw 2\\nSkipping line 271: expected 1 fields, saw 2\\nSkipping line 272: expected 1 fields, saw 2\\nSkipping line 273: expected 1 fields, saw 2\\nSkipping line 274: expected 1 fields, saw 2\\nSkipping line 275: expected 1 fields, saw 2\\nSkipping line 281: expected 1 fields, saw 2\\nSkipping line 282: expected 1 fields, saw 2\\nSkipping line 283: expected 1 fields, saw 2\\nSkipping line 284: expected 1 fields, saw 2\\nSkipping line 291: expected 1 fields, saw 2\\nSkipping line 299: expected 1 fields, saw 4\\nSkipping line 304: expected 1 fields, saw 2\\nSkipping line 307: expected 1 fields, saw 2\\nSkipping line 308: expected 1 fields, saw 2\\nSkipping line 312: expected 1 fields, saw 2\\nSkipping line 335: expected 1 fields, saw 2\\nSkipping line 505: expected 1 fields, saw 6\\nSkipping line 506: expected 1 fields, saw 3\\nSkipping line 518: expected 1 fields, saw 6\\nSkipping line 519: expected 1 fields, saw 6\\nSkipping line 574: expected 1 fields, saw 2\\nSkipping line 578: expected 1 fields, saw 2\\nSkipping line 581: expected 1 fields, saw 2\\nSkipping line 584: expected 1 fields, saw 2\\nSkipping line 587: expected 1 fields, saw 2\\nSkipping line 590: expected 1 fields, saw 2\\nSkipping line 593: expected 1 fields, saw 2\\nSkipping line 596: expected 1 fields, saw 2\\nSkipping line 602: expected 1 fields, saw 3\\nSkipping line 624: expected 1 fields, saw 3\\nSkipping line 633: expected 1 fields, saw 3\\nSkipping line 634: expected 1 fields, saw 3\\nSkipping line 635: expected 1 fields, saw 3\\nSkipping line 636: expected 1 fields, saw 3\\nSkipping line 637: expected 1 fields, saw 3\\nSkipping line 638: expected 1 fields, saw 3\\nSkipping line 639: expected 1 fields, saw 3\\nSkipping line 640: expected 1 fields, saw 3\\nSkipping line 641: expected 1 fields, saw 3\\nSkipping line 647: expected 1 fields, saw 3\\nSkipping line 648: expected 1 fields, saw 3\\nSkipping line 649: expected 1 fields, saw 3\\nSkipping line 650: expected 1 fields, saw 3\\nSkipping line 651: expected 1 fields, saw 3\\nSkipping line 657: expected 1 fields, saw 3\\nSkipping line 658: expected 1 fields, saw 3\\nSkipping line 659: expected 1 fields, saw 3\\nSkipping line 660: expected 1 fields, saw 3\\nSkipping line 661: expected 1 fields, saw 3\\nSkipping line 662: expected 1 fields, saw 3\\nSkipping line 668: expected 1 fields, saw 3\\nSkipping line 669: expected 1 fields, saw 3\\nSkipping line 670: expected 1 fields, saw 3\\nSkipping line 671: expected 1 fields, saw 3\\nSkipping line 672: expected 1 fields, saw 3\\nSkipping line 673: expected 1 fields, saw 3\\nSkipping line 682: expected 1 fields, saw 3\\nSkipping line 688: expected 1 fields, saw 3\\nSkipping line 694: expected 1 fields, saw 3\\nSkipping line 700: expected 1 fields, saw 3\\nSkipping line 706: expected 1 fields, saw 3\\nSkipping line 713: expected 1 fields, saw 2\\nSkipping line 714: expected 1 fields, saw 3\\nSkipping line 715: expected 1 fields, saw 3\\nSkipping line 716: expected 1 fields, saw 3\\nSkipping line 717: expected 1 fields, saw 3\\n'\n"
     ]
    },
    {
     "output_type": "display_data",
     "data": {
      "text/plain": "                                       <!DOCTYPE html>\n0    <html lang=\"en\" data-color-mode=\"auto\" data-li...\n1                                               <head>\n2                               <meta charset=\"utf-8\">\n3      <link rel=\"dns-prefetch\" href=\"https://githu...\n4      <link rel=\"dns-prefetch\" href=\"https://avata...\n..                                                 ...\n512    <div class=\"Popover-message Popover-message-...\n513                                             </div>\n514                                             </div>\n515                                            </body>\n516                                            </html>\n\n[517 rows x 1 columns]",
      "text/html": "<div>\n<style scoped>\n    .dataframe tbody tr th:only-of-type {\n        vertical-align: middle;\n    }\n\n    .dataframe tbody tr th {\n        vertical-align: top;\n    }\n\n    .dataframe thead th {\n        text-align: right;\n    }\n</style>\n<table border=\"1\" class=\"dataframe\">\n  <thead>\n    <tr style=\"text-align: right;\">\n      <th></th>\n      <th>&lt;!DOCTYPE html&gt;</th>\n    </tr>\n  </thead>\n  <tbody>\n    <tr>\n      <th>0</th>\n      <td>&lt;html lang=\"en\" data-color-mode=\"auto\" data-li...</td>\n    </tr>\n    <tr>\n      <th>1</th>\n      <td>&lt;head&gt;</td>\n    </tr>\n    <tr>\n      <th>2</th>\n      <td>&lt;meta charset=\"utf-8\"&gt;</td>\n    </tr>\n    <tr>\n      <th>3</th>\n      <td>&lt;link rel=\"dns-prefetch\" href=\"https://githu...</td>\n    </tr>\n    <tr>\n      <th>4</th>\n      <td>&lt;link rel=\"dns-prefetch\" href=\"https://avata...</td>\n    </tr>\n    <tr>\n      <th>...</th>\n      <td>...</td>\n    </tr>\n    <tr>\n      <th>512</th>\n      <td>&lt;div class=\"Popover-message Popover-message-...</td>\n    </tr>\n    <tr>\n      <th>513</th>\n      <td>&lt;/div&gt;</td>\n    </tr>\n    <tr>\n      <th>514</th>\n      <td>&lt;/div&gt;</td>\n    </tr>\n    <tr>\n      <th>515</th>\n      <td>&lt;/body&gt;</td>\n    </tr>\n    <tr>\n      <th>516</th>\n      <td>&lt;/html&gt;</td>\n    </tr>\n  </tbody>\n</table>\n<p>517 rows × 1 columns</p>\n</div>"
     },
     "metadata": {}
    },
    {
     "output_type": "display_data",
     "data": {
      "text/plain": "    Coronavirus  Alternative virus name Host Protein  UniProt ID  \\\n0           IBV                    IBV          NONO      Q15233   \n1           IBV                    IBV          GSK3A     P49840   \n2           IBV                    IBV          GSK3B     P49841   \n3           IBV                    IBV         PABPC1     P11940   \n4           IBV                    IBV         PABPC4     Q13310   \n..           ...                    ...           ...        ...   \n123        SARS          SARS-CoV[GZ02]          FGL2     Q14314   \n124        SARS          SARS-CoV[GZ02]          XPO1     O14980   \n125    HCoV-229E              HCoV-229E         TGFB1     P01137   \n126    HCoV-229E              HCoV-229E          FGL2     Q14314   \n127         MHV                     MHV         SMAD3     P84022   \n\n     Host Gene Entrez ID  PubMed ID/STRING  \n0                    4841         23637410  \n1                    2931         23637410  \n2                    2932         23637410  \n3                   26986         23637410  \n4                    8761         23637410  \n..                    ...              ...  \n123                 10875  STRING Viruses   \n124                  7514  STRING Viruses   \n125                  7040  STRING Viruses   \n126                 10875  STRING Viruses   \n127                  4088  STRING Viruses   \n\n[128 rows x 6 columns]",
      "text/html": "<div>\n<style scoped>\n    .dataframe tbody tr th:only-of-type {\n        vertical-align: middle;\n    }\n\n    .dataframe tbody tr th {\n        vertical-align: top;\n    }\n\n    .dataframe thead th {\n        text-align: right;\n    }\n</style>\n<table border=\"1\" class=\"dataframe\">\n  <thead>\n    <tr style=\"text-align: right;\">\n      <th></th>\n      <th>Coronavirus</th>\n      <th>Alternative virus name</th>\n      <th>Host Protein</th>\n      <th>UniProt ID</th>\n      <th>Host Gene Entrez ID</th>\n      <th>PubMed ID/STRING</th>\n    </tr>\n  </thead>\n  <tbody>\n    <tr>\n      <th>0</th>\n      <td>IBV</td>\n      <td>IBV</td>\n      <td>NONO</td>\n      <td>Q15233</td>\n      <td>4841</td>\n      <td>23637410</td>\n    </tr>\n    <tr>\n      <th>1</th>\n      <td>IBV</td>\n      <td>IBV</td>\n      <td>GSK3A</td>\n      <td>P49840</td>\n      <td>2931</td>\n      <td>23637410</td>\n    </tr>\n    <tr>\n      <th>2</th>\n      <td>IBV</td>\n      <td>IBV</td>\n      <td>GSK3B</td>\n      <td>P49841</td>\n      <td>2932</td>\n      <td>23637410</td>\n    </tr>\n    <tr>\n      <th>3</th>\n      <td>IBV</td>\n      <td>IBV</td>\n      <td>PABPC1</td>\n      <td>P11940</td>\n      <td>26986</td>\n      <td>23637410</td>\n    </tr>\n    <tr>\n      <th>4</th>\n      <td>IBV</td>\n      <td>IBV</td>\n      <td>PABPC4</td>\n      <td>Q13310</td>\n      <td>8761</td>\n      <td>23637410</td>\n    </tr>\n    <tr>\n      <th>...</th>\n      <td>...</td>\n      <td>...</td>\n      <td>...</td>\n      <td>...</td>\n      <td>...</td>\n      <td>...</td>\n    </tr>\n    <tr>\n      <th>123</th>\n      <td>SARS</td>\n      <td>SARS-CoV[GZ02]</td>\n      <td>FGL2</td>\n      <td>Q14314</td>\n      <td>10875</td>\n      <td>STRING Viruses</td>\n    </tr>\n    <tr>\n      <th>124</th>\n      <td>SARS</td>\n      <td>SARS-CoV[GZ02]</td>\n      <td>XPO1</td>\n      <td>O14980</td>\n      <td>7514</td>\n      <td>STRING Viruses</td>\n    </tr>\n    <tr>\n      <th>125</th>\n      <td>HCoV-229E</td>\n      <td>HCoV-229E</td>\n      <td>TGFB1</td>\n      <td>P01137</td>\n      <td>7040</td>\n      <td>STRING Viruses</td>\n    </tr>\n    <tr>\n      <th>126</th>\n      <td>HCoV-229E</td>\n      <td>HCoV-229E</td>\n      <td>FGL2</td>\n      <td>Q14314</td>\n      <td>10875</td>\n      <td>STRING Viruses</td>\n    </tr>\n    <tr>\n      <th>127</th>\n      <td>MHV</td>\n      <td>MHV</td>\n      <td>SMAD3</td>\n      <td>P84022</td>\n      <td>4088</td>\n      <td>STRING Viruses</td>\n    </tr>\n  </tbody>\n</table>\n<p>128 rows × 6 columns</p>\n</div>"
     },
     "metadata": {}
    }
   ],
   "source": [
    "## We can use requests and get a byte stream of the CSVget virus data\n",
    "## dropping lines with extra data\n",
    "url_rv1 = 'https://github.com/CapitalData/biograkn-covid/raw/master/Dataset/Coronaviruses/GenomeIdentityClean.csv'\n",
    "\n",
    "url_rv2 = 'https://github.com/CapitalData/biograkn-covid/raw/master/Dataset/Coronaviruses/Host proteins (potential drug targets).csv'\n",
    "\n",
    "rv = requests.get(url_rv1).text\n",
    "c = pd.read_csv(StringIO(rv), error_bad_lines=False)\n",
    "\n",
    "display(c)\n",
    "\n",
    "rv_2 = requests.get(url_rv2).text\n",
    "#d = pd.read_csv(StringIO(rv_2), error_bad_lines=False)\n",
    "\n",
    "display(rv_2)\n",
    "\n",
    "# alternative syntax to get the bytes stream\n",
    "#url = 'https://raw.githubusercontent.com/CapitalData/biograkn-covid/master/Dataset/Coronaviruses/Genome%20identity.csv')"
   ]
  },
  {
   "cell_type": "code",
   "execution_count": 98,
   "metadata": {},
   "outputs": [
    {
     "output_type": "execute_result",
     "data": {
      "text/plain": [
       "  GenBank ID ,Coronavirus ,Identity % ,Host ,Location discovered \n",
       "0               MN908947,2019-nCoV,100,Human ,China              \n",
       "1  MN938384,2019-nCoV[HKU-SZ-002a],99.99,Human ,C...             \n",
       "2  MN975262,2019-nCoV[HKU-SZ-005b],99.98,Human ,C...             \n",
       "3  AY390556,SARS-CoV[GZ02],79.7,Human ,China , SA...             \n",
       "4      AY485277,SARS-CoV[Sino1-11,79.7,Human ,China              "
      ],
      "text/html": "<div>\n<style scoped>\n    .dataframe tbody tr th:only-of-type {\n        vertical-align: middle;\n    }\n\n    .dataframe tbody tr th {\n        vertical-align: top;\n    }\n\n    .dataframe thead th {\n        text-align: right;\n    }\n</style>\n<table border=\"1\" class=\"dataframe\">\n  <thead>\n    <tr style=\"text-align: right;\">\n      <th></th>\n      <th>GenBank ID ,Coronavirus ,Identity % ,Host ,Location discovered</th>\n    </tr>\n  </thead>\n  <tbody>\n    <tr>\n      <th>0</th>\n      <td>MN908947,2019-nCoV,100,Human ,China</td>\n    </tr>\n    <tr>\n      <th>1</th>\n      <td>MN938384,2019-nCoV[HKU-SZ-002a],99.99,Human ,C...</td>\n    </tr>\n    <tr>\n      <th>2</th>\n      <td>MN975262,2019-nCoV[HKU-SZ-005b],99.98,Human ,C...</td>\n    </tr>\n    <tr>\n      <th>3</th>\n      <td>AY390556,SARS-CoV[GZ02],79.7,Human ,China , SA...</td>\n    </tr>\n    <tr>\n      <th>4</th>\n      <td>AY485277,SARS-CoV[Sino1-11,79.7,Human ,China</td>\n    </tr>\n  </tbody>\n</table>\n</div>"
     },
     "metadata": {},
     "execution_count": 98
    }
   ],
   "source": [
    "# ALT we can use read table to get unparsed lines\n",
    "virus_meta_df = pd.read_table(r'https://github.com/CapitalData/biograkn-covid/raw/master/Dataset/Coronaviruses/Genome%20identity.csv')\n",
    "\n",
    "virus_meta_df.head()"
   ]
  },
  {
   "cell_type": "code",
   "execution_count": null,
   "metadata": {},
   "outputs": [],
   "source": []
  }
 ],
 "metadata": {
  "kernelspec": {
   "display_name": "Python 3",
   "language": "python",
   "name": "python3"
  },
  "language_info": {
   "codemirror_mode": {
    "name": "ipython",
    "version": 3
   },
   "file_extension": ".py",
   "mimetype": "text/x-python",
   "name": "python",
   "nbconvert_exporter": "python",
   "pygments_lexer": "ipython3",
   "version": "3.6.13"
  }
 },
 "nbformat": 4,
 "nbformat_minor": 5
}