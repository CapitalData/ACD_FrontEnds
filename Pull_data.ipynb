{
 "metadata": {
  "language_info": {
   "codemirror_mode": {
    "name": "ipython",
    "version": 3
   },
   "file_extension": ".py",
   "mimetype": "text/x-python",
   "name": "python",
   "nbconvert_exporter": "python",
   "pygments_lexer": "ipython3",
   "version": "3.7.10"
  },
  "orig_nbformat": 2,
  "kernelspec": {
   "name": "python3710jvsc74a57bd0b57234d3781df02a13ac3c54a72e19a625785425e1bd6e8ec81cef7b3e4746fb",
   "display_name": "Python 3.7.10 64-bit ('graknprodv2_1': conda)"
  }
 },
 "nbformat": 4,
 "nbformat_minor": 2,
 "cells": [
  {
   "cell_type": "code",
   "execution_count": 24,
   "metadata": {},
   "outputs": [],
   "source": [
    "from grakn.client import *\n",
    "import pandas as pd\n",
    "import time\n",
    "import collections\n",
    "import numpy as np\n",
    "\n",
    "# The purpose of this script is to create a report of which elements of a schema have data present.\n",
    "KEYSPACE = \"biograkn_V2prod\"\n",
    "URI = \"localhost:1729\"\n",
    "\n",
    "\n",
    "# originally using grakn2prod, holoviews\n",
    "# scikit-image, 0.18.1 - version required -    \n",
    "# holoviews                 1.14.3            \n",
    "# bokeh                     2.3.1    \n",
    "##grakn 2.01 env graknprodv2_1\n",
    "\n",
    "def report_values(URI, KEYSPACE, query_in, ret_var, attribute):\n",
    "    \"\"\"return a list from a match query, reports on one or more attrubuted for the type listed\"\"\"\n",
    "\n",
    "    t1=time.time()\n",
    "    lookup = dict(zip(ret_var, attribute))\n",
    "\n",
    "    with Grakn.core_client(URI) as client:\n",
    "        with client.session(KEYSPACE, SessionType.DATA) as session:\n",
    "            #with session.transaction(TransactionType.WRITE) as tx:\n",
    "            with session.transaction(TransactionType.READ) as tx:\n",
    "                iterator=tx.query().match(query_in)\n",
    "                a=(list(iterator))\n",
    "                #answers = [ans.get('virus-name') for ans in iterator]\n",
    "                #result = [ answer.value() for answer in answers ]\n",
    "                live_df = pd.DataFrame()\n",
    "                \n",
    "                # this pulles attributes out of the answer object\n",
    "                for answer in a:\n",
    "                    row={lookup[i]: [answer.get(i).get_value()] for i in ret_var}\n",
    "                    live_df = live_df.append(pd.DataFrame(row))\n",
    "                live_df.reset_index(drop=True, inplace=True)\n",
    "                \n",
    "                #remove - , this seems to break the dash implementation\n",
    "                live_df.columns = [i.replace('-','_') for i in live_df.columns]\n",
    "   \n",
    "    print(f\"elapsed time {time.time()-t1}\")            \n",
    "    return live_df \n",
    "\n",
    "## HOW MANY VIRUSES ARE THERE IN THE DB\n",
    "#there are 15 viruses in the database they appear to be relatives of covid.\n",
    "\n",
    "def count_values(URI, KEYSPACE, type, limit):\n",
    "    \"\"\" count_values(URI, KEYSPACE, virus, 10) \"\"\"\n",
    "\n",
    "    with Grakn.core_client(URI) as client:\n",
    "        with client.session(KEYSPACE, SessionType.DATA) as session:\n",
    "            #with session.transaction(TransactionType.WRITE) as tx:\n",
    "            with session.transaction(TransactionType.READ) as tx:\n",
    "                query_in=f\"match $d isa {type}; limit {limit}; count;\"\n",
    "                ans=tx.query().match_aggregate(query_in)\n",
    "                print(ans.get().as_int())\n",
    "\n",
    "#get the set of viruses on each line and make a new colunm\n",
    "#vir_prot_vir_rt.vs_set=\n",
    "def virus_set(x):\n",
    "    \"\"\" this takes in the whole dataframe, pass N columns in next iteration\"\"\"\n",
    "    x['vs_set'] = set([x['genbank_id1'],x['uniprot_entry_name'], x['genbank_id2']])     \n",
    "    x['vs_set_str'] = str(x['vs_set']) \n",
    "    return x"
   ]
  },
  {
   "cell_type": "code",
   "execution_count": 19,
   "metadata": {},
   "outputs": [
    {
     "output_type": "stream",
     "name": "stdout",
     "text": [
      "loading fresh data from the graph checking virus objects\n",
      "15\n"
     ]
    }
   ],
   "source": [
    "print('loading fresh data from the graph checking virus objects')\n",
    "count_values(URI, KEYSPACE, 'virus', 100)"
   ]
  },
  {
   "source": [
    "## Collect the data from the graph and save it to the REPO. \n",
    "## Add a push the REPO\n"
   ],
   "cell_type": "markdown",
   "metadata": {}
  },
  {
   "cell_type": "code",
   "execution_count": 23,
   "metadata": {},
   "outputs": [
    {
     "output_type": "stream",
     "name": "stdout",
     "text": [
      "elapsed time 0.550957202911377\n",
      "(36, 5)\n",
      "(19, 5)\n",
      "elapsed time 2.6177940368652344\n",
      "(695, 7)\n",
      "(694, 7)\n"
     ]
    }
   ],
   "source": [
    "\n",
    "# virus level data - attributes plus discovery-orign and organism\n",
    "## get all the virus names in the notebook, add thier relatedness attribute0.\n",
    "# -- funciton: get attribute list from type\n",
    "\n",
    "attribute= ['virus-name', 'genbank-id', 'identity-percentage', 'organism-name', 'country-name' ] #, \n",
    "ret_var=['vn', 'gid','idprc', 'on', 'cn'] #,'gva'\n",
    "\n",
    "query_in=f\"\"\"match $v isa virus, has virus-name $vn, has genbank-id $gid, has identity-percentage $idprc;\n",
    "$ova(hosting-organism: $o, hosted-virus: $v) isa organism-virus-hosting;\n",
    "$o isa organism, has organism-name $on;\n",
    "$discv (discovered-virus: $v, discovering-location: $c) isa discovery;\n",
    "$c isa country, has country-name $cn;\n",
    "\"\"\"     \n",
    "\n",
    "#$g isa gene, has gene-symbol $gs, has entrez-id $entid;\n",
    "#$gva(associated-virus-gene: $g, associated-virus: $v) isa gene-virus-association;\n",
    "\n",
    "VirAttrib=report_values(URI, KEYSPACE, query_in, ret_var, attribute)\n",
    "print(VirAttrib.shape)\n",
    "\n",
    "VirAttrib['organism_name'] = VirAttrib['organism_name'].replace(['Homo sapiens (Human)'],'Human')\n",
    "\n",
    "### not sure why duplicates are coming back from this query\n",
    "### also some of the original viruses are not in the data set?\n",
    "## this is related to the requirement for the gene virus association\n",
    "## removing that updates teh list\n",
    "\n",
    "VirAttrib=VirAttrib.drop_duplicates()\n",
    "print(VirAttrib.shape)\n",
    "\n",
    "############### write out the CSVs #############\n",
    "VirAttrib.to_csv('virus_attributes.csv', index=False)\n",
    "\n",
    "#if VirAttrib[organism-name] == Homo sapiens (Human)\n",
    "#VirAttrib.where('Homo sapiens (Human)', 'Human', inplace=True)\n",
    "# round trips\n",
    "# virus1 > protien1 > virus2. - neighborhood analysis\n",
    "\n",
    "attribute= ['virus-name1', 'uniprot-name', 'function-description', 'uniprot-entry-name',  'virus-name2', 'genbank-id1', 'genbank-id2'] #, , 'pathway-name', 'pathway-id'\n",
    "ret_var=['vn1', 'un', 'fdesc', 'unpn', 'vn2', 'gid1', 'gid2'] #,'gva' , 'pwn', 'pwid'\n",
    "\n",
    "query_in=f\"\"\"\n",
    "match $v1 isa virus, has genbank-id $gid1, has virus-name $vn1; \n",
    "$p isa protein, has uniprot-name $un, has function-description $fdesc, has uniprot-entry-name $unpn;\n",
    "(hosting-virus-protein: $p, associated-virus: $v1) isa protein-virus-association; \n",
    "$v2 isa virus, has genbank-id $gid2, has virus-name $vn2;\n",
    "(hosting-virus-protein: $p, associated-virus: $v2) isa protein-virus-association; \n",
    "\"\"\"\n",
    "\n",
    "vir_prot_vir_rt=report_values(URI, KEYSPACE, query_in, ret_var, attribute)\n",
    "print(vir_prot_vir_rt.shape)\n",
    "\n",
    "### THIS DOES NOT HAVE duplicates are coming back from this query\n",
    "### maybe the round trips are reciprical\n",
    "df=vir_prot_vir_rt.drop_duplicates()\n",
    "print(df.shape)\n",
    "\n",
    "# remove self referential paths - this might be a mistake since it will remove proteins that are onlu linked to one virus - we want all unique paths including terminal paths\n",
    "\n",
    "#df=df[df['virus-name1'] != df['virus-name2']]\n",
    "#print(f'dropped self referential paths, shape: {df.shape}')\n",
    "###remove redundant relationships## i.e a->b == b->a\n",
    "\n",
    "df = df.apply(virus_set, axis=1)\n",
    "df = df.drop_duplicates('vs_set_str', keep='last')\n",
    "\n",
    "# # subset by virus 1 and 2 (a or b) \n",
    "print(f'dropped reverse paths shape accounting for redundant IDs: {df.shape}')\n",
    "df.head()\n",
    "\n",
    "df.to_csv('vir_prot_vir_rt.csv', index=False)\n",
    "vir_prot_vir_rt=df\n",
    "vir_prot_vir_rt\n"
   ]
  },
  {
   "cell_type": "code",
   "execution_count": 25,
   "metadata": {},
   "outputs": [
    {
     "output_type": "stream",
     "name": "stdout",
     "text": [
      "dropped reverse paths shape accounting for redundant IDs: (133, 9)\n"
     ]
    },
    {
     "output_type": "execute_result",
     "data": {
      "text/plain": [
       "    virus_name1                                       uniprot_name  \\\n",
       "6           MHV  Heterogeneous nuclear ribonucleoprotein Q (hnR...   \n",
       "7     HCoV-229E  Aminopeptidase N (AP-N) (hAPN) (EC 3.4.11.2) (...   \n",
       "8     HCoV-NL63  Angiotensin-converting enzyme 2 (EC 3.4.17.23)...   \n",
       "11   SARS-CoV-2  Angiotensin-converting enzyme 2 (EC 3.4.17.23)...   \n",
       "13    HCoV-229E     Fibroleukin (Fibrinogen-like protein 2) (pT49)   \n",
       "..          ...                                                ...   \n",
       "682  SARS-CoV-2  Induced myeloid leukemia cell differentiation ...   \n",
       "685  SARS-CoV-2                                         Caveolin-1   \n",
       "688  SARS-CoV-2  Proteasome subunit alpha type-2 (EC 3.4.25.1) ...   \n",
       "691  SARS-CoV-2  Intraflagellar transport-associated protein (P...   \n",
       "694  SARS-CoV-2  Charged multivesicular body protein 2b (CHMP2....   \n",
       "\n",
       "                                  function_description uniprot_entry_name  \\\n",
       "6    FUNCTION: Heterogenous nuclear ribonucleoprote...        HNRPQ_HUMAN   \n",
       "7    FUNCTION: Broad specificity aminopeptidase whi...         AMPN_HUMAN   \n",
       "8    FUNCTION: Essential counter-regulatory carboxy...         ACE2_HUMAN   \n",
       "11   FUNCTION: Essential counter-regulatory carboxy...         ACE2_HUMAN   \n",
       "13   FUNCTION: May play a role in physiologic lymph...         FGL2_HUMAN   \n",
       "..                                                 ...                ...   \n",
       "682  FUNCTION: Involved in the regulation of apopto...         MCL1_HUMAN   \n",
       "685  FUNCTION: May act as a scaffolding protein wit...         CAV1_HUMAN   \n",
       "688  FUNCTION: Component of the 20S core proteasome...         PSA2_HUMAN   \n",
       "691  FUNCTION: Seems to play a role in ciliary BBSo...        IFTAP_HUMAN   \n",
       "694  FUNCTION: Probable core component of the endos...        CHM2B_HUMAN   \n",
       "\n",
       "        virus_name2 genbank_id1 genbank_id2                            vs_set  \\\n",
       "6               MHV   AC 000192   AC 000192          {AC 000192, HNRPQ_HUMAN}   \n",
       "7         HCoV-229E    MN306046    MN306046            {MN306046, AMPN_HUMAN}   \n",
       "8         HCoV-NL63    MG772808    MG772808            {MG772808, ACE2_HUMAN}   \n",
       "11        HCoV-NL63    AY390556    MG772808  {AY390556, MG772808, ACE2_HUMAN}   \n",
       "13        HCoV-229E    MN306046    MN306046            {MN306046, FGL2_HUMAN}   \n",
       "..              ...         ...         ...                               ...   \n",
       "682  SARS-CoV[GZ02]    AY390556    AY390556            {AY390556, MCL1_HUMAN}   \n",
       "685  SARS-CoV[GZ02]    AY390556    AY390556            {AY390556, CAV1_HUMAN}   \n",
       "688  SARS-CoV[GZ02]    AY390556    AY390556            {PSA2_HUMAN, AY390556}   \n",
       "691  SARS-CoV[GZ02]    AY390556    AY390556           {IFTAP_HUMAN, AY390556}   \n",
       "694  SARS-CoV[GZ02]    AY390556    AY390556           {CHM2B_HUMAN, AY390556}   \n",
       "\n",
       "                                 vs_set_str  \n",
       "6              {'AC 000192', 'HNRPQ_HUMAN'}  \n",
       "7                {'MN306046', 'AMPN_HUMAN'}  \n",
       "8                {'MG772808', 'ACE2_HUMAN'}  \n",
       "11   {'AY390556', 'MG772808', 'ACE2_HUMAN'}  \n",
       "13               {'MN306046', 'FGL2_HUMAN'}  \n",
       "..                                      ...  \n",
       "682              {'AY390556', 'MCL1_HUMAN'}  \n",
       "685              {'AY390556', 'CAV1_HUMAN'}  \n",
       "688              {'PSA2_HUMAN', 'AY390556'}  \n",
       "691             {'IFTAP_HUMAN', 'AY390556'}  \n",
       "694             {'CHM2B_HUMAN', 'AY390556'}  \n",
       "\n",
       "[133 rows x 9 columns]"
      ],
      "text/html": "<div>\n<style scoped>\n    .dataframe tbody tr th:only-of-type {\n        vertical-align: middle;\n    }\n\n    .dataframe tbody tr th {\n        vertical-align: top;\n    }\n\n    .dataframe thead th {\n        text-align: right;\n    }\n</style>\n<table border=\"1\" class=\"dataframe\">\n  <thead>\n    <tr style=\"text-align: right;\">\n      <th></th>\n      <th>virus_name1</th>\n      <th>uniprot_name</th>\n      <th>function_description</th>\n      <th>uniprot_entry_name</th>\n      <th>virus_name2</th>\n      <th>genbank_id1</th>\n      <th>genbank_id2</th>\n      <th>vs_set</th>\n      <th>vs_set_str</th>\n    </tr>\n  </thead>\n  <tbody>\n    <tr>\n      <th>6</th>\n      <td>MHV</td>\n      <td>Heterogeneous nuclear ribonucleoprotein Q (hnR...</td>\n      <td>FUNCTION: Heterogenous nuclear ribonucleoprote...</td>\n      <td>HNRPQ_HUMAN</td>\n      <td>MHV</td>\n      <td>AC 000192</td>\n      <td>AC 000192</td>\n      <td>{AC 000192, HNRPQ_HUMAN}</td>\n      <td>{'AC 000192', 'HNRPQ_HUMAN'}</td>\n    </tr>\n    <tr>\n      <th>7</th>\n      <td>HCoV-229E</td>\n      <td>Aminopeptidase N (AP-N) (hAPN) (EC 3.4.11.2) (...</td>\n      <td>FUNCTION: Broad specificity aminopeptidase whi...</td>\n      <td>AMPN_HUMAN</td>\n      <td>HCoV-229E</td>\n      <td>MN306046</td>\n      <td>MN306046</td>\n      <td>{MN306046, AMPN_HUMAN}</td>\n      <td>{'MN306046', 'AMPN_HUMAN'}</td>\n    </tr>\n    <tr>\n      <th>8</th>\n      <td>HCoV-NL63</td>\n      <td>Angiotensin-converting enzyme 2 (EC 3.4.17.23)...</td>\n      <td>FUNCTION: Essential counter-regulatory carboxy...</td>\n      <td>ACE2_HUMAN</td>\n      <td>HCoV-NL63</td>\n      <td>MG772808</td>\n      <td>MG772808</td>\n      <td>{MG772808, ACE2_HUMAN}</td>\n      <td>{'MG772808', 'ACE2_HUMAN'}</td>\n    </tr>\n    <tr>\n      <th>11</th>\n      <td>SARS-CoV-2</td>\n      <td>Angiotensin-converting enzyme 2 (EC 3.4.17.23)...</td>\n      <td>FUNCTION: Essential counter-regulatory carboxy...</td>\n      <td>ACE2_HUMAN</td>\n      <td>HCoV-NL63</td>\n      <td>AY390556</td>\n      <td>MG772808</td>\n      <td>{AY390556, MG772808, ACE2_HUMAN}</td>\n      <td>{'AY390556', 'MG772808', 'ACE2_HUMAN'}</td>\n    </tr>\n    <tr>\n      <th>13</th>\n      <td>HCoV-229E</td>\n      <td>Fibroleukin (Fibrinogen-like protein 2) (pT49)</td>\n      <td>FUNCTION: May play a role in physiologic lymph...</td>\n      <td>FGL2_HUMAN</td>\n      <td>HCoV-229E</td>\n      <td>MN306046</td>\n      <td>MN306046</td>\n      <td>{MN306046, FGL2_HUMAN}</td>\n      <td>{'MN306046', 'FGL2_HUMAN'}</td>\n    </tr>\n    <tr>\n      <th>...</th>\n      <td>...</td>\n      <td>...</td>\n      <td>...</td>\n      <td>...</td>\n      <td>...</td>\n      <td>...</td>\n      <td>...</td>\n      <td>...</td>\n      <td>...</td>\n    </tr>\n    <tr>\n      <th>682</th>\n      <td>SARS-CoV-2</td>\n      <td>Induced myeloid leukemia cell differentiation ...</td>\n      <td>FUNCTION: Involved in the regulation of apopto...</td>\n      <td>MCL1_HUMAN</td>\n      <td>SARS-CoV[GZ02]</td>\n      <td>AY390556</td>\n      <td>AY390556</td>\n      <td>{AY390556, MCL1_HUMAN}</td>\n      <td>{'AY390556', 'MCL1_HUMAN'}</td>\n    </tr>\n    <tr>\n      <th>685</th>\n      <td>SARS-CoV-2</td>\n      <td>Caveolin-1</td>\n      <td>FUNCTION: May act as a scaffolding protein wit...</td>\n      <td>CAV1_HUMAN</td>\n      <td>SARS-CoV[GZ02]</td>\n      <td>AY390556</td>\n      <td>AY390556</td>\n      <td>{AY390556, CAV1_HUMAN}</td>\n      <td>{'AY390556', 'CAV1_HUMAN'}</td>\n    </tr>\n    <tr>\n      <th>688</th>\n      <td>SARS-CoV-2</td>\n      <td>Proteasome subunit alpha type-2 (EC 3.4.25.1) ...</td>\n      <td>FUNCTION: Component of the 20S core proteasome...</td>\n      <td>PSA2_HUMAN</td>\n      <td>SARS-CoV[GZ02]</td>\n      <td>AY390556</td>\n      <td>AY390556</td>\n      <td>{PSA2_HUMAN, AY390556}</td>\n      <td>{'PSA2_HUMAN', 'AY390556'}</td>\n    </tr>\n    <tr>\n      <th>691</th>\n      <td>SARS-CoV-2</td>\n      <td>Intraflagellar transport-associated protein (P...</td>\n      <td>FUNCTION: Seems to play a role in ciliary BBSo...</td>\n      <td>IFTAP_HUMAN</td>\n      <td>SARS-CoV[GZ02]</td>\n      <td>AY390556</td>\n      <td>AY390556</td>\n      <td>{IFTAP_HUMAN, AY390556}</td>\n      <td>{'IFTAP_HUMAN', 'AY390556'}</td>\n    </tr>\n    <tr>\n      <th>694</th>\n      <td>SARS-CoV-2</td>\n      <td>Charged multivesicular body protein 2b (CHMP2....</td>\n      <td>FUNCTION: Probable core component of the endos...</td>\n      <td>CHM2B_HUMAN</td>\n      <td>SARS-CoV[GZ02]</td>\n      <td>AY390556</td>\n      <td>AY390556</td>\n      <td>{CHM2B_HUMAN, AY390556}</td>\n      <td>{'CHM2B_HUMAN', 'AY390556'}</td>\n    </tr>\n  </tbody>\n</table>\n<p>133 rows × 9 columns</p>\n</div>"
     },
     "metadata": {},
     "execution_count": 25
    }
   ],
   "source": []
  },
  {
   "source": [
    "\n",
    "## Get the data from \n",
    "- virus graph github \n",
    "- or local file and parse."
   ],
   "cell_type": "code",
   "metadata": {},
   "execution_count": null,
   "outputs": []
  },
  {
   "cell_type": "code",
   "execution_count": 16,
   "metadata": {},
   "outputs": [],
   "source": []
  },
  {
   "cell_type": "code",
   "execution_count": 17,
   "metadata": {},
   "outputs": [
    {
     "output_type": "execute_result",
     "data": {
      "text/plain": [
       "       virus_name genbank_id identity_percentage organism_name country_name\n",
       "0             IBV   KY421672               48.38         Avian        China\n",
       "1             MHV  AC 000192               50.23         Mouse          USA\n",
       "2  SARS-CoV[NS-1]   AY508724               79.69         Human        China\n",
       "4  SARS-COV[GD01]   AY278489               79.65         Human        China\n",
       "6            SARS   AY390556                79.7         Human        China"
      ],
      "text/html": "<div>\n<style scoped>\n    .dataframe tbody tr th:only-of-type {\n        vertical-align: middle;\n    }\n\n    .dataframe tbody tr th {\n        vertical-align: top;\n    }\n\n    .dataframe thead th {\n        text-align: right;\n    }\n</style>\n<table border=\"1\" class=\"dataframe\">\n  <thead>\n    <tr style=\"text-align: right;\">\n      <th></th>\n      <th>virus_name</th>\n      <th>genbank_id</th>\n      <th>identity_percentage</th>\n      <th>organism_name</th>\n      <th>country_name</th>\n    </tr>\n  </thead>\n  <tbody>\n    <tr>\n      <th>0</th>\n      <td>IBV</td>\n      <td>KY421672</td>\n      <td>48.38</td>\n      <td>Avian</td>\n      <td>China</td>\n    </tr>\n    <tr>\n      <th>1</th>\n      <td>MHV</td>\n      <td>AC 000192</td>\n      <td>50.23</td>\n      <td>Mouse</td>\n      <td>USA</td>\n    </tr>\n    <tr>\n      <th>2</th>\n      <td>SARS-CoV[NS-1]</td>\n      <td>AY508724</td>\n      <td>79.69</td>\n      <td>Human</td>\n      <td>China</td>\n    </tr>\n    <tr>\n      <th>4</th>\n      <td>SARS-COV[GD01]</td>\n      <td>AY278489</td>\n      <td>79.65</td>\n      <td>Human</td>\n      <td>China</td>\n    </tr>\n    <tr>\n      <th>6</th>\n      <td>SARS</td>\n      <td>AY390556</td>\n      <td>79.7</td>\n      <td>Human</td>\n      <td>China</td>\n    </tr>\n  </tbody>\n</table>\n</div>"
     },
     "metadata": {},
     "execution_count": 17
    }
   ],
   "source": [
    "VirAttrib.head()"
   ]
  },
  {
   "cell_type": "code",
   "execution_count": null,
   "metadata": {},
   "outputs": [],
   "source": []
  }
 ]
}